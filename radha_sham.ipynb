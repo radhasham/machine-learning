{
  "nbformat": 4,
  "nbformat_minor": 0,
  "metadata": {
    "colab": {
      "name": "radha sham.ipynb",
      "provenance": [],
      "authorship_tag": "ABX9TyOvnTu5m6gDSWr3WekRUagk",
      "include_colab_link": true
    },
    "kernelspec": {
      "name": "python3",
      "display_name": "Python 3"
    },
    "language_info": {
      "name": "python"
    }
  },
  "cells": [
    {
      "cell_type": "markdown",
      "metadata": {
        "id": "view-in-github",
        "colab_type": "text"
      },
      "source": [
        "<a href=\"https://colab.research.google.com/github/radhasham/machine-learning/blob/main/radha_sham.ipynb\" target=\"_parent\"><img src=\"https://colab.research.google.com/assets/colab-badge.svg\" alt=\"Open In Colab\"/></a>"
      ]
    },
    {
      "cell_type": "code",
      "execution_count": 49,
      "metadata": {
        "id": "WZf1DZyPJX3J"
      },
      "outputs": [],
      "source": [
        " #Programme for Linear Regression \n",
        " #importing numpy library for taking array as input \n",
        " import numpy as np\n",
        " #importing matplotlib.pyplot for plotting graph\n",
        " import matplotlib.pyplot as pt \n",
        " #importing sklearn for getting linear  mode land datasets\n",
        " from sklearn import datasets, linear_model"
      ]
    },
    {
      "cell_type": "code",
      "source": [
        "radha =linear_model.LinearRegression()\n"
      ],
      "metadata": {
        "id": "uvvD6lisRkRb"
      },
      "execution_count": null,
      "outputs": []
    },
    {
      "cell_type": "code",
      "source": [
        "x=np.array([1,10,20,40,50,70,80,90,120])\n",
        "y=np.array([30,20,90,110,130,170,150,200,260])"
      ],
      "metadata": {
        "id": "pO4QkJj8SPIS"
      },
      "execution_count": null,
      "outputs": []
    },
    {
      "cell_type": "code",
      "source": [
        "sham= linear_model.LinearRegression()"
      ],
      "metadata": {
        "id": "MC1L05WTS9oq"
      },
      "execution_count": null,
      "outputs": []
    },
    {
      "cell_type": "code",
      "source": [
        "x=x.reshape(-1,1)"
      ],
      "metadata": {
        "id": "65vb_jtsTcFJ"
      },
      "execution_count": null,
      "outputs": []
    },
    {
      "cell_type": "code",
      "source": [
        "radha.fit(x,y)"
      ],
      "metadata": {
        "colab": {
          "base_uri": "https://localhost:8080/"
        },
        "id": "4Tm_aB1hTu4y",
        "outputId": "7bcfa19a-201f-4656-ac7d-6f4d03be37ac"
      },
      "execution_count": null,
      "outputs": [
        {
          "output_type": "execute_result",
          "data": {
            "text/plain": [
              "LinearRegression()"
            ]
          },
          "metadata": {},
          "execution_count": 32
        }
      ]
    },
    {
      "cell_type": "code",
      "source": [
        "y_pred=radha.predict(x)"
      ],
      "metadata": {
        "id": "Vc1r85l0UlvZ"
      },
      "execution_count": null,
      "outputs": []
    },
    {
      "cell_type": "code",
      "source": [
        "pt.scatter(x,y)\n",
        "pt.plot(x,y_pred,color='green')\n",
        "pt.show()"
      ],
      "metadata": {
        "colab": {
          "base_uri": "https://localhost:8080/",
          "height": 265
        },
        "id": "00oBS0hSVJIL",
        "outputId": "8b686323-503b-4791-b6cd-92c3ce84a400"
      },
      "execution_count": null,
      "outputs": [
        {
          "output_type": "display_data",
          "data": {
            "text/plain": [
              "<Figure size 432x288 with 1 Axes>"
            ],
            "image/png": "[encoded data removed]"
          },
          "metadata": {
            "needs_background": "light"
          }
        }
      ]
    },
    {
      "cell_type": "code",
      "source": [
        "print(radha.intercept_)"
      ],
      "metadata": {
        "colab": {
          "base_uri": "https://localhost:8080/"
        },
        "id": "_7dqiFjtVz5K",
        "outputId": "a0cd50a4-c0fe-45c3-8ebf-639d3b52f0f5"
      },
      "execution_count": null,
      "outputs": [
        {
          "output_type": "stream",
          "name": "stdout",
          "text": [
            "27.700528674462547\n"
          ]
        }
      ]
    }
  ]
}